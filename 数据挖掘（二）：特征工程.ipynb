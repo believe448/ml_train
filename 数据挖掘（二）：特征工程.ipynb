{
 "cells": [
  {
   "cell_type": "code",
   "execution_count": 541,
   "metadata": {},
   "outputs": [],
   "source": [
    "# 导入包\n",
    "import pandas as pd\n",
    "import numpy as np\n",
    "from scipy import stats\n",
    "import matplotlib.pyplot as plt\n",
    "from sklearn.preprocessing import MinMaxScaler\n",
    "from sklearn.model_selection import train_test_split\n",
    "from sklearn.linear_model import LogisticRegression\n",
    "from sklearn.ensemble import RandomForestClassifier\n",
    "from sklearn.ensemble import GradientBoostingClassifier\n",
    "from sklearn.metrics import classification_report\n",
    "from datetime import datetime\n",
    "from dateutil.parser import parse\n",
    "from woe import WoE \n",
    "\n",
    "plt.rcParams['font.sans-serif']=['SimHei']\n",
    "plt.rcParams['axes.unicode_minus']=False\n",
    "%matplotlib inline"
   ]
  },
  {
   "cell_type": "code",
   "execution_count": 542,
   "metadata": {},
   "outputs": [
    {
     "name": "stdout",
     "output_type": "stream",
     "text": [
      "(4754, 90)\n"
     ]
    }
   ],
   "source": [
    "# 导入数据\n",
    "org_data = pd.read_csv(\"data.csv\", encoding = 'gbk')\n",
    "print(org_data.shape)"
   ]
  },
  {
   "cell_type": "markdown",
   "metadata": {},
   "source": [
    "## 1、删除无关变量"
   ]
  },
  {
   "cell_type": "code",
   "execution_count": 543,
   "metadata": {
    "scrolled": true
   },
   "outputs": [
    {
     "data": {
      "text/html": [
       "<div>\n",
       "<style scoped>\n",
       "    .dataframe tbody tr th:only-of-type {\n",
       "        vertical-align: middle;\n",
       "    }\n",
       "\n",
       "    .dataframe tbody tr th {\n",
       "        vertical-align: top;\n",
       "    }\n",
       "\n",
       "    .dataframe thead th {\n",
       "        text-align: right;\n",
       "    }\n",
       "</style>\n",
       "<table border=\"1\" class=\"dataframe\">\n",
       "  <thead>\n",
       "    <tr style=\"text-align: right;\">\n",
       "      <th></th>\n",
       "      <th>Unnamed: 0</th>\n",
       "      <th>custid</th>\n",
       "      <th>trade_no</th>\n",
       "      <th>bank_card_no</th>\n",
       "      <th>low_volume_percent</th>\n",
       "      <th>middle_volume_percent</th>\n",
       "      <th>take_amount_in_later_12_month_highest</th>\n",
       "      <th>trans_amount_increase_rate_lately</th>\n",
       "      <th>trans_activity_month</th>\n",
       "      <th>trans_activity_day</th>\n",
       "      <th>...</th>\n",
       "      <th>loans_max_limit</th>\n",
       "      <th>loans_avg_limit</th>\n",
       "      <th>consfin_credit_limit</th>\n",
       "      <th>consfin_credibility</th>\n",
       "      <th>consfin_org_count_current</th>\n",
       "      <th>consfin_product_count</th>\n",
       "      <th>consfin_max_limit</th>\n",
       "      <th>consfin_avg_limit</th>\n",
       "      <th>latest_query_day</th>\n",
       "      <th>loans_latest_day</th>\n",
       "    </tr>\n",
       "  </thead>\n",
       "  <tbody>\n",
       "    <tr>\n",
       "      <th>0</th>\n",
       "      <td>5</td>\n",
       "      <td>2791858</td>\n",
       "      <td>20180507115231274000000023057383</td>\n",
       "      <td>卡号1</td>\n",
       "      <td>0.01</td>\n",
       "      <td>0.99</td>\n",
       "      <td>0</td>\n",
       "      <td>0.90</td>\n",
       "      <td>0.55</td>\n",
       "      <td>0.313</td>\n",
       "      <td>...</td>\n",
       "      <td>2900.0</td>\n",
       "      <td>1688.0</td>\n",
       "      <td>1200.0</td>\n",
       "      <td>75.0</td>\n",
       "      <td>1.0</td>\n",
       "      <td>2.0</td>\n",
       "      <td>1200.0</td>\n",
       "      <td>1200.0</td>\n",
       "      <td>12.0</td>\n",
       "      <td>18.0</td>\n",
       "    </tr>\n",
       "    <tr>\n",
       "      <th>1</th>\n",
       "      <td>10</td>\n",
       "      <td>534047</td>\n",
       "      <td>20180507121002192000000023073000</td>\n",
       "      <td>卡号1</td>\n",
       "      <td>0.02</td>\n",
       "      <td>0.94</td>\n",
       "      <td>2000</td>\n",
       "      <td>1.28</td>\n",
       "      <td>1.00</td>\n",
       "      <td>0.458</td>\n",
       "      <td>...</td>\n",
       "      <td>3500.0</td>\n",
       "      <td>1758.0</td>\n",
       "      <td>15100.0</td>\n",
       "      <td>80.0</td>\n",
       "      <td>5.0</td>\n",
       "      <td>6.0</td>\n",
       "      <td>22800.0</td>\n",
       "      <td>9360.0</td>\n",
       "      <td>4.0</td>\n",
       "      <td>2.0</td>\n",
       "    </tr>\n",
       "    <tr>\n",
       "      <th>2</th>\n",
       "      <td>12</td>\n",
       "      <td>2849787</td>\n",
       "      <td>20180507125159718000000023114911</td>\n",
       "      <td>卡号1</td>\n",
       "      <td>0.04</td>\n",
       "      <td>0.96</td>\n",
       "      <td>0</td>\n",
       "      <td>1.00</td>\n",
       "      <td>1.00</td>\n",
       "      <td>0.114</td>\n",
       "      <td>...</td>\n",
       "      <td>1600.0</td>\n",
       "      <td>1250.0</td>\n",
       "      <td>4200.0</td>\n",
       "      <td>87.0</td>\n",
       "      <td>1.0</td>\n",
       "      <td>1.0</td>\n",
       "      <td>4200.0</td>\n",
       "      <td>4200.0</td>\n",
       "      <td>2.0</td>\n",
       "      <td>6.0</td>\n",
       "    </tr>\n",
       "    <tr>\n",
       "      <th>3</th>\n",
       "      <td>13</td>\n",
       "      <td>1809708</td>\n",
       "      <td>20180507121358683000000388283484</td>\n",
       "      <td>卡号1</td>\n",
       "      <td>0.00</td>\n",
       "      <td>0.96</td>\n",
       "      <td>2000</td>\n",
       "      <td>0.13</td>\n",
       "      <td>0.57</td>\n",
       "      <td>0.777</td>\n",
       "      <td>...</td>\n",
       "      <td>3200.0</td>\n",
       "      <td>1541.0</td>\n",
       "      <td>16300.0</td>\n",
       "      <td>80.0</td>\n",
       "      <td>5.0</td>\n",
       "      <td>5.0</td>\n",
       "      <td>30000.0</td>\n",
       "      <td>12180.0</td>\n",
       "      <td>2.0</td>\n",
       "      <td>4.0</td>\n",
       "    </tr>\n",
       "    <tr>\n",
       "      <th>4</th>\n",
       "      <td>14</td>\n",
       "      <td>2499829</td>\n",
       "      <td>20180507115448545000000388205844</td>\n",
       "      <td>卡号1</td>\n",
       "      <td>0.01</td>\n",
       "      <td>0.99</td>\n",
       "      <td>0</td>\n",
       "      <td>0.46</td>\n",
       "      <td>1.00</td>\n",
       "      <td>0.175</td>\n",
       "      <td>...</td>\n",
       "      <td>2300.0</td>\n",
       "      <td>1630.0</td>\n",
       "      <td>8300.0</td>\n",
       "      <td>79.0</td>\n",
       "      <td>2.0</td>\n",
       "      <td>2.0</td>\n",
       "      <td>8400.0</td>\n",
       "      <td>8250.0</td>\n",
       "      <td>22.0</td>\n",
       "      <td>120.0</td>\n",
       "    </tr>\n",
       "  </tbody>\n",
       "</table>\n",
       "<p>5 rows × 90 columns</p>\n",
       "</div>"
      ],
      "text/plain": [
       "   Unnamed: 0   custid                          trade_no bank_card_no  \\\n",
       "0           5  2791858  20180507115231274000000023057383          卡号1   \n",
       "1          10   534047  20180507121002192000000023073000          卡号1   \n",
       "2          12  2849787  20180507125159718000000023114911          卡号1   \n",
       "3          13  1809708  20180507121358683000000388283484          卡号1   \n",
       "4          14  2499829  20180507115448545000000388205844          卡号1   \n",
       "\n",
       "   low_volume_percent  middle_volume_percent  \\\n",
       "0                0.01                   0.99   \n",
       "1                0.02                   0.94   \n",
       "2                0.04                   0.96   \n",
       "3                0.00                   0.96   \n",
       "4                0.01                   0.99   \n",
       "\n",
       "   take_amount_in_later_12_month_highest  trans_amount_increase_rate_lately  \\\n",
       "0                                      0                               0.90   \n",
       "1                                   2000                               1.28   \n",
       "2                                      0                               1.00   \n",
       "3                                   2000                               0.13   \n",
       "4                                      0                               0.46   \n",
       "\n",
       "   trans_activity_month  trans_activity_day  ...  loans_max_limit  \\\n",
       "0                  0.55               0.313  ...           2900.0   \n",
       "1                  1.00               0.458  ...           3500.0   \n",
       "2                  1.00               0.114  ...           1600.0   \n",
       "3                  0.57               0.777  ...           3200.0   \n",
       "4                  1.00               0.175  ...           2300.0   \n",
       "\n",
       "   loans_avg_limit  consfin_credit_limit  consfin_credibility  \\\n",
       "0           1688.0                1200.0                 75.0   \n",
       "1           1758.0               15100.0                 80.0   \n",
       "2           1250.0                4200.0                 87.0   \n",
       "3           1541.0               16300.0                 80.0   \n",
       "4           1630.0                8300.0                 79.0   \n",
       "\n",
       "   consfin_org_count_current  consfin_product_count  consfin_max_limit  \\\n",
       "0                        1.0                    2.0             1200.0   \n",
       "1                        5.0                    6.0            22800.0   \n",
       "2                        1.0                    1.0             4200.0   \n",
       "3                        5.0                    5.0            30000.0   \n",
       "4                        2.0                    2.0             8400.0   \n",
       "\n",
       "   consfin_avg_limit  latest_query_day  loans_latest_day  \n",
       "0             1200.0              12.0              18.0  \n",
       "1             9360.0               4.0               2.0  \n",
       "2             4200.0               2.0               6.0  \n",
       "3            12180.0               2.0               4.0  \n",
       "4             8250.0              22.0             120.0  \n",
       "\n",
       "[5 rows x 90 columns]"
      ]
     },
     "execution_count": 543,
     "metadata": {},
     "output_type": "execute_result"
    }
   ],
   "source": [
    "# 查看前几行数据\n",
    "org_data.head()"
   ]
  },
  {
   "cell_type": "code",
   "execution_count": 544,
   "metadata": {
    "scrolled": true
   },
   "outputs": [],
   "source": [
    "# 去掉第一列和名字\n",
    "org_data = org_data.drop(['Unnamed: 0', 'id_name'], axis=1)"
   ]
  },
  {
   "cell_type": "code",
   "execution_count": 545,
   "metadata": {},
   "outputs": [],
   "source": [
    "# org_data.dtypes\n",
    "org_data_count = pd.DataFrame(org_data.nunique())\n",
    "# org_data_count[org_data_count == 0 | org_data_count == len(org_data)]"
   ]
  },
  {
   "cell_type": "code",
   "execution_count": 546,
   "metadata": {},
   "outputs": [
    {
     "name": "stderr",
     "output_type": "stream",
     "text": [
      "D:\\Anaconda3\\lib\\site-packages\\ipykernel_launcher.py:2: DeprecationWarning: \n",
      ".ix is deprecated. Please use\n",
      ".loc for label based indexing or\n",
      ".iloc for positional indexing\n",
      "\n",
      "See the documentation here:\n",
      "http://pandas.pydata.org/pandas-docs/stable/indexing.html#ix-indexer-is-deprecated\n",
      "  \n"
     ]
    },
    {
     "data": {
      "text/plain": [
       "Index(['bank_card_no', 'source'], dtype='object')"
      ]
     },
     "execution_count": 546,
     "metadata": {},
     "output_type": "execute_result"
    }
   ],
   "source": [
    "# 找出唯一值的变量名称\n",
    "org_data_count[org_data_count.ix[:, 0] == 1].index"
   ]
  },
  {
   "cell_type": "code",
   "execution_count": 547,
   "metadata": {},
   "outputs": [
    {
     "name": "stderr",
     "output_type": "stream",
     "text": [
      "D:\\Anaconda3\\lib\\site-packages\\ipykernel_launcher.py:2: DeprecationWarning: \n",
      ".ix is deprecated. Please use\n",
      ".loc for label based indexing or\n",
      ".iloc for positional indexing\n",
      "\n",
      "See the documentation here:\n",
      "http://pandas.pydata.org/pandas-docs/stable/indexing.html#ix-indexer-is-deprecated\n",
      "  \n"
     ]
    },
    {
     "data": {
      "text/plain": [
       "Index(['custid', 'trade_no'], dtype='object')"
      ]
     },
     "execution_count": 547,
     "metadata": {},
     "output_type": "execute_result"
    }
   ],
   "source": [
    "# 找出类似ID的变量名称\n",
    "org_data_count[org_data_count.ix[:, 0] == len(org_data)].index"
   ]
  },
  {
   "cell_type": "code",
   "execution_count": 548,
   "metadata": {},
   "outputs": [],
   "source": [
    "org_data = org_data.drop(['bank_card_no', 'source', 'custid', 'trade_no'], axis = 1)"
   ]
  },
  {
   "cell_type": "code",
   "execution_count": 549,
   "metadata": {},
   "outputs": [
    {
     "name": "stdout",
     "output_type": "stream",
     "text": [
      "(4754, 84)\n"
     ]
    }
   ],
   "source": [
    "print(org_data.shape)"
   ]
  },
  {
   "cell_type": "markdown",
   "metadata": {},
   "source": [
    "##  2、数据类型分析"
   ]
  },
  {
   "cell_type": "code",
   "execution_count": 550,
   "metadata": {},
   "outputs": [
    {
     "name": "stdout",
     "output_type": "stream",
     "text": [
      "<class 'pandas.core.frame.DataFrame'>\n",
      "RangeIndex: 4754 entries, 0 to 4753\n",
      "Data columns (total 84 columns):\n",
      "low_volume_percent                            4752 non-null float64\n",
      "middle_volume_percent                         4752 non-null float64\n",
      "take_amount_in_later_12_month_highest         4754 non-null int64\n",
      "trans_amount_increase_rate_lately             4751 non-null float64\n",
      "trans_activity_month                          4752 non-null float64\n",
      "trans_activity_day                            4752 non-null float64\n",
      "transd_mcc                                    4752 non-null float64\n",
      "trans_days_interval_filter                    4746 non-null float64\n",
      "trans_days_interval                           4752 non-null float64\n",
      "regional_mobility                             4752 non-null float64\n",
      "student_feature                               1756 non-null float64\n",
      "repayment_capability                          4754 non-null int64\n",
      "is_high_user                                  4754 non-null int64\n",
      "number_of_trans_from_2011                     4752 non-null float64\n",
      "first_transaction_time                        4752 non-null float64\n",
      "historical_trans_amount                       4754 non-null int64\n",
      "historical_trans_day                          4752 non-null float64\n",
      "rank_trad_1_month                             4752 non-null float64\n",
      "trans_amount_3_month                          4754 non-null int64\n",
      "avg_consume_less_12_valid_month               4752 non-null float64\n",
      "abs                                           4754 non-null int64\n",
      "top_trans_count_last_1_month                  4752 non-null float64\n",
      "avg_price_last_12_month                       4754 non-null int64\n",
      "avg_price_top_last_12_valid_month             4650 non-null float64\n",
      "reg_preference_for_trad                       4752 non-null object\n",
      "trans_top_time_last_1_month                   4746 non-null float64\n",
      "trans_top_time_last_6_month                   4746 non-null float64\n",
      "consume_top_time_last_1_month                 4746 non-null float64\n",
      "consume_top_time_last_6_month                 4746 non-null float64\n",
      "cross_consume_count_last_1_month              4328 non-null float64\n",
      "trans_fail_top_count_enum_last_1_month        4738 non-null float64\n",
      "trans_fail_top_count_enum_last_6_month        4738 non-null float64\n",
      "trans_fail_top_count_enum_last_12_month       4738 non-null float64\n",
      "consume_mini_time_last_1_month                4728 non-null float64\n",
      "max_cumulative_consume_later_1_month          4754 non-null int64\n",
      "max_consume_count_later_6_month               4746 non-null float64\n",
      "railway_consume_count_last_12_month           4742 non-null float64\n",
      "pawns_auctions_trusts_consume_last_1_month    4754 non-null int64\n",
      "pawns_auctions_trusts_consume_last_6_month    4754 non-null int64\n",
      "jewelry_consume_count_last_6_month            4742 non-null float64\n",
      "status                                        4754 non-null int64\n",
      "first_transaction_day                         4752 non-null float64\n",
      "trans_day_last_12_month                       4752 non-null float64\n",
      "apply_score                                   4450 non-null float64\n",
      "apply_credibility                             4450 non-null float64\n",
      "query_org_count                               4450 non-null float64\n",
      "query_finance_count                           4450 non-null float64\n",
      "query_cash_count                              4450 non-null float64\n",
      "query_sum_count                               4450 non-null float64\n",
      "latest_query_time                             4450 non-null object\n",
      "latest_one_month_apply                        4450 non-null float64\n",
      "latest_three_month_apply                      4450 non-null float64\n",
      "latest_six_month_apply                        4450 non-null float64\n",
      "loans_score                                   4457 non-null float64\n",
      "loans_credibility_behavior                    4457 non-null float64\n",
      "loans_count                                   4457 non-null float64\n",
      "loans_settle_count                            4457 non-null float64\n",
      "loans_overdue_count                           4457 non-null float64\n",
      "loans_org_count_behavior                      4457 non-null float64\n",
      "consfin_org_count_behavior                    4457 non-null float64\n",
      "loans_cash_count                              4457 non-null float64\n",
      "latest_one_month_loan                         4457 non-null float64\n",
      "latest_three_month_loan                       4457 non-null float64\n",
      "latest_six_month_loan                         4457 non-null float64\n",
      "history_suc_fee                               4457 non-null float64\n",
      "history_fail_fee                              4457 non-null float64\n",
      "latest_one_month_suc                          4457 non-null float64\n",
      "latest_one_month_fail                         4457 non-null float64\n",
      "loans_long_time                               4457 non-null float64\n",
      "loans_latest_time                             4457 non-null object\n",
      "loans_credit_limit                            4457 non-null float64\n",
      "loans_credibility_limit                       4457 non-null float64\n",
      "loans_org_count_current                       4457 non-null float64\n",
      "loans_product_count                           4457 non-null float64\n",
      "loans_max_limit                               4457 non-null float64\n",
      "loans_avg_limit                               4457 non-null float64\n",
      "consfin_credit_limit                          4457 non-null float64\n",
      "consfin_credibility                           4457 non-null float64\n",
      "consfin_org_count_current                     4457 non-null float64\n",
      "consfin_product_count                         4457 non-null float64\n",
      "consfin_max_limit                             4457 non-null float64\n",
      "consfin_avg_limit                             4457 non-null float64\n",
      "latest_query_day                              4450 non-null float64\n",
      "loans_latest_day                              4457 non-null float64\n",
      "dtypes: float64(70), int64(11), object(3)\n",
      "memory usage: 3.9 MB\n"
     ]
    }
   ],
   "source": [
    "# dtypes: float64(70), int64(11), object(4)\n",
    "org_data.info(memory_usage='deep')"
   ]
  },
  {
   "cell_type": "code",
   "execution_count": 551,
   "metadata": {},
   "outputs": [
    {
     "name": "stdout",
     "output_type": "stream",
     "text": [
      "3\n",
      "Index(['reg_preference_for_trad', 'latest_query_time', 'loans_latest_time'], dtype='object')\n"
     ]
    }
   ],
   "source": [
    "var_char = org_data.dtypes[org_data.dtypes == 'object'].index\n",
    "print(len(var_char))\n",
    "print(var_char)"
   ]
  },
  {
   "cell_type": "code",
   "execution_count": 552,
   "metadata": {},
   "outputs": [
    {
     "name": "stdout",
     "output_type": "stream",
     "text": [
      "['status']\n",
      "80\n",
      "['cross_consume_count_last_1_month', 'max_cumulative_consume_later_1_month', 'trans_day_last_12_month', 'query_org_count', 'number_of_trans_from_2011', 'trans_amount_3_month', 'trans_fail_top_count_enum_last_1_month', 'loans_score', 'loans_cash_count', 'pawns_auctions_trusts_consume_last_6_month', 'apply_credibility', 'loans_credit_limit', 'max_consume_count_later_6_month', 'rank_trad_1_month', 'latest_three_month_apply', 'jewelry_consume_count_last_6_month', 'loans_avg_limit', 'consume_mini_time_last_1_month', 'loans_credibility_behavior', 'first_transaction_day', 'is_high_user', 'loans_credibility_limit', 'transd_mcc', 'trans_fail_top_count_enum_last_6_month', 'latest_six_month_loan', 'loans_settle_count', 'loans_max_limit', 'consfin_org_count_behavior', 'regional_mobility', 'historical_trans_amount', 'top_trans_count_last_1_month', 'student_feature', 'avg_price_last_12_month', 'latest_six_month_apply', 'first_transaction_time', 'trans_days_interval_filter', 'consfin_credit_limit', 'history_suc_fee', 'consfin_product_count', 'trans_amount_increase_rate_lately', 'trans_activity_month', 'latest_one_month_loan', 'trans_top_time_last_1_month', 'loans_org_count_current', 'repayment_capability', 'apply_score', 'trans_days_interval', 'query_sum_count', 'consume_top_time_last_6_month', 'latest_one_month_apply', 'query_cash_count', 'latest_one_month_suc', 'loans_product_count', 'consfin_org_count_current', 'trans_top_time_last_6_month', 'loans_org_count_behavior', 'history_fail_fee', 'loans_latest_day', 'take_amount_in_later_12_month_highest', 'middle_volume_percent', 'loans_count', 'consfin_avg_limit', 'trans_fail_top_count_enum_last_12_month', 'latest_one_month_fail', 'low_volume_percent', 'trans_activity_day', 'historical_trans_day', 'loans_overdue_count', 'abs', 'consume_top_time_last_1_month', 'latest_query_day', 'railway_consume_count_last_12_month', 'avg_consume_less_12_valid_month', 'pawns_auctions_trusts_consume_last_1_month', 'query_finance_count', 'consfin_credibility', 'consfin_max_limit', 'avg_price_top_last_12_valid_month', 'loans_long_time', 'latest_three_month_loan']\n"
     ]
    }
   ],
   "source": [
    "var_y = ['status']\n",
    "var_num = org_data.dtypes[org_data.dtypes != 'object'].index\n",
    "var_num = list(set(var_num) - set(var_y))\n",
    "print(var_y)\n",
    "print(len(var_num))\n",
    "print(var_num)"
   ]
  },
  {
   "cell_type": "markdown",
   "metadata": {},
   "source": [
    "## 3、缺失值处理"
   ]
  },
  {
   "cell_type": "code",
   "execution_count": 553,
   "metadata": {},
   "outputs": [
    {
     "name": "stdout",
     "output_type": "stream",
     "text": [
      "缺失变量个数：70\n"
     ]
    }
   ],
   "source": [
    "# 缺失占比统计:70个变量都有缺失！\n",
    "missing_rate_t = 1 - org_data.describe().T['count'] / len(org_data)\n",
    "missing_rate = missing_rate_t[missing_rate_t > 0].sort_values(ascending = False)\n",
    "print(\"缺失变量个数：%s\"%len(missing_rate))"
   ]
  },
  {
   "cell_type": "code",
   "execution_count": 554,
   "metadata": {},
   "outputs": [
    {
     "name": "stdout",
     "output_type": "stream",
     "text": [
      "student_feature    0.630627\n",
      "Name: count, dtype: float64\n"
     ]
    }
   ],
   "source": [
    "missing_rate_50 = missing_rate_t[missing_rate_t > 0.5].sort_values(ascending = False)\n",
    "print(missing_rate_50)"
   ]
  },
  {
   "cell_type": "code",
   "execution_count": 555,
   "metadata": {},
   "outputs": [],
   "source": [
    "org_data1 = org_data.drop(missing_rate_50.index, axis=1)\n",
    "var_num = list(set(var_num)- set(['student_feature']))"
   ]
  },
  {
   "cell_type": "code",
   "execution_count": 556,
   "metadata": {},
   "outputs": [
    {
     "name": "stdout",
     "output_type": "stream",
     "text": [
      "cross_consume_count_last_1_month           0.089609\n",
      "query_cash_count                           0.063946\n",
      "latest_query_day                           0.063946\n",
      "latest_six_month_apply                     0.063946\n",
      "latest_one_month_apply                     0.063946\n",
      "query_sum_count                            0.063946\n",
      "latest_three_month_apply                   0.063946\n",
      "query_finance_count                        0.063946\n",
      "query_org_count                            0.063946\n",
      "apply_credibility                          0.063946\n",
      "apply_score                                0.063946\n",
      "latest_one_month_loan                      0.062474\n",
      "loans_score                                0.062474\n",
      "loans_credibility_behavior                 0.062474\n",
      "loans_count                                0.062474\n",
      "loans_settle_count                         0.062474\n",
      "loans_overdue_count                        0.062474\n",
      "loans_org_count_behavior                   0.062474\n",
      "consfin_org_count_behavior                 0.062474\n",
      "loans_cash_count                           0.062474\n",
      "loans_latest_day                           0.062474\n",
      "latest_three_month_loan                    0.062474\n",
      "loans_product_count                        0.062474\n",
      "consfin_avg_limit                          0.062474\n",
      "consfin_max_limit                          0.062474\n",
      "consfin_product_count                      0.062474\n",
      "consfin_org_count_current                  0.062474\n",
      "consfin_credibility                        0.062474\n",
      "consfin_credit_limit                       0.062474\n",
      "loans_avg_limit                            0.062474\n",
      "                                             ...   \n",
      "latest_six_month_loan                      0.062474\n",
      "avg_price_top_last_12_valid_month          0.021876\n",
      "consume_mini_time_last_1_month             0.005469\n",
      "trans_fail_top_count_enum_last_1_month     0.003366\n",
      "trans_fail_top_count_enum_last_6_month     0.003366\n",
      "trans_fail_top_count_enum_last_12_month    0.003366\n",
      "jewelry_consume_count_last_6_month         0.002524\n",
      "railway_consume_count_last_12_month        0.002524\n",
      "max_consume_count_later_6_month            0.001683\n",
      "consume_top_time_last_6_month              0.001683\n",
      "consume_top_time_last_1_month              0.001683\n",
      "trans_top_time_last_6_month                0.001683\n",
      "trans_top_time_last_1_month                0.001683\n",
      "trans_days_interval_filter                 0.001683\n",
      "trans_amount_increase_rate_lately          0.000631\n",
      "regional_mobility                          0.000421\n",
      "middle_volume_percent                      0.000421\n",
      "trans_activity_month                       0.000421\n",
      "trans_activity_day                         0.000421\n",
      "transd_mcc                                 0.000421\n",
      "trans_days_interval                        0.000421\n",
      "historical_trans_day                       0.000421\n",
      "number_of_trans_from_2011                  0.000421\n",
      "first_transaction_time                     0.000421\n",
      "rank_trad_1_month                          0.000421\n",
      "avg_consume_less_12_valid_month            0.000421\n",
      "top_trans_count_last_1_month               0.000421\n",
      "trans_day_last_12_month                    0.000421\n",
      "first_transaction_day                      0.000421\n",
      "low_volume_percent                         0.000421\n",
      "Name: count, Length: 69, dtype: float64\n"
     ]
    }
   ],
   "source": [
    "#打印缺失占比\n",
    "missing_rate_t1 = 1 - org_data1.describe().T['count'] / len(org_data)\n",
    "missing_rate1 = missing_rate_t1[missing_rate_t1 > 0].sort_values(ascending = False)\n",
    "print(missing_rate1)"
   ]
  },
  {
   "cell_type": "code",
   "execution_count": 557,
   "metadata": {},
   "outputs": [],
   "source": [
    "# 因没有变量说明，通过浏览原数据发现，first_transaction_time为年月日，且存在大量疑似分类变量（变量值为整数、水平数较少），\n",
    "# 这里将水平数小于50个的变量调整为分类变量"
   ]
  },
  {
   "cell_type": "code",
   "execution_count": 558,
   "metadata": {},
   "outputs": [
    {
     "data": {
      "text/plain": [
       "low_volume_percent                        float64\n",
       "middle_volume_percent                     float64\n",
       "take_amount_in_later_12_month_highest       int64\n",
       "trans_amount_increase_rate_lately         float64\n",
       "trans_activity_month                      float64\n",
       "trans_activity_day                        float64\n",
       "transd_mcc                                float64\n",
       "trans_days_interval_filter                float64\n",
       "trans_days_interval                       float64\n",
       "regional_mobility                         float64\n",
       "repayment_capability                        int64\n",
       "is_high_user                                int64\n",
       "number_of_trans_from_2011                 float64\n",
       "first_transaction_time                    float64\n",
       "historical_trans_amount                     int64\n",
       "historical_trans_day                      float64\n",
       "rank_trad_1_month                         float64\n",
       "trans_amount_3_month                        int64\n",
       "avg_consume_less_12_valid_month           float64\n",
       "abs                                         int64\n",
       "top_trans_count_last_1_month              float64\n",
       "avg_price_last_12_month                     int64\n",
       "avg_price_top_last_12_valid_month         float64\n",
       "reg_preference_for_trad                    object\n",
       "trans_top_time_last_1_month               float64\n",
       "trans_top_time_last_6_month               float64\n",
       "consume_top_time_last_1_month             float64\n",
       "consume_top_time_last_6_month             float64\n",
       "cross_consume_count_last_1_month          float64\n",
       "trans_fail_top_count_enum_last_1_month    float64\n",
       "                                           ...   \n",
       "loans_count                               float64\n",
       "loans_settle_count                        float64\n",
       "loans_overdue_count                       float64\n",
       "loans_org_count_behavior                  float64\n",
       "consfin_org_count_behavior                float64\n",
       "loans_cash_count                          float64\n",
       "latest_one_month_loan                     float64\n",
       "latest_three_month_loan                   float64\n",
       "latest_six_month_loan                     float64\n",
       "history_suc_fee                           float64\n",
       "history_fail_fee                          float64\n",
       "latest_one_month_suc                      float64\n",
       "latest_one_month_fail                     float64\n",
       "loans_long_time                           float64\n",
       "loans_latest_time                          object\n",
       "loans_credit_limit                        float64\n",
       "loans_credibility_limit                   float64\n",
       "loans_org_count_current                   float64\n",
       "loans_product_count                       float64\n",
       "loans_max_limit                           float64\n",
       "loans_avg_limit                           float64\n",
       "consfin_credit_limit                      float64\n",
       "consfin_credibility                       float64\n",
       "consfin_org_count_current                 float64\n",
       "consfin_product_count                     float64\n",
       "consfin_max_limit                         float64\n",
       "consfin_avg_limit                         float64\n",
       "latest_query_day                          float64\n",
       "loans_latest_day                          float64\n",
       "today_date                                 object\n",
       "Length: 84, dtype: object"
      ]
     },
     "execution_count": 558,
     "metadata": {},
     "output_type": "execute_result"
    }
   ],
   "source": [
    "org_data1['today_date'] = '2019-05-13'\n",
    "org_data1.head()\n",
    "org_data1.dtypes"
   ]
  },
  {
   "cell_type": "code",
   "execution_count": 559,
   "metadata": {},
   "outputs": [],
   "source": [
    "org_data1['latest_query_time_days']=(pd.to_datetime(org_data1['today_date']) - \n",
    "                                     pd.to_datetime(org_data1['latest_query_time']))/np.timedelta64(1*60*60*24, 's')\n",
    "\n",
    "org_data1['loans_latest_time_days']=(pd.to_datetime(org_data1['today_date']) - \n",
    "                                     pd.to_datetime(org_data1['loans_latest_time']))/np.timedelta64(1*60*60*24, 's')\n"
   ]
  },
  {
   "cell_type": "code",
   "execution_count": 560,
   "metadata": {},
   "outputs": [
    {
     "data": {
      "text/html": [
       "<div>\n",
       "<style scoped>\n",
       "    .dataframe tbody tr th:only-of-type {\n",
       "        vertical-align: middle;\n",
       "    }\n",
       "\n",
       "    .dataframe tbody tr th {\n",
       "        vertical-align: top;\n",
       "    }\n",
       "\n",
       "    .dataframe thead th {\n",
       "        text-align: right;\n",
       "    }\n",
       "</style>\n",
       "<table border=\"1\" class=\"dataframe\">\n",
       "  <thead>\n",
       "    <tr style=\"text-align: right;\">\n",
       "      <th></th>\n",
       "      <th>low_volume_percent</th>\n",
       "      <th>middle_volume_percent</th>\n",
       "      <th>take_amount_in_later_12_month_highest</th>\n",
       "      <th>trans_amount_increase_rate_lately</th>\n",
       "      <th>trans_activity_month</th>\n",
       "      <th>trans_activity_day</th>\n",
       "      <th>transd_mcc</th>\n",
       "      <th>trans_days_interval_filter</th>\n",
       "      <th>trans_days_interval</th>\n",
       "      <th>regional_mobility</th>\n",
       "      <th>...</th>\n",
       "      <th>consfin_credibility</th>\n",
       "      <th>consfin_org_count_current</th>\n",
       "      <th>consfin_product_count</th>\n",
       "      <th>consfin_max_limit</th>\n",
       "      <th>consfin_avg_limit</th>\n",
       "      <th>latest_query_day</th>\n",
       "      <th>loans_latest_day</th>\n",
       "      <th>today_date</th>\n",
       "      <th>latest_query_time_days</th>\n",
       "      <th>loans_latest_time_days</th>\n",
       "    </tr>\n",
       "  </thead>\n",
       "  <tbody>\n",
       "    <tr>\n",
       "      <th>0</th>\n",
       "      <td>0.01</td>\n",
       "      <td>0.99</td>\n",
       "      <td>0</td>\n",
       "      <td>0.90</td>\n",
       "      <td>0.55</td>\n",
       "      <td>0.313</td>\n",
       "      <td>17.0</td>\n",
       "      <td>27.0</td>\n",
       "      <td>26.0</td>\n",
       "      <td>3.0</td>\n",
       "      <td>...</td>\n",
       "      <td>75.0</td>\n",
       "      <td>1.0</td>\n",
       "      <td>2.0</td>\n",
       "      <td>1200.0</td>\n",
       "      <td>1200.0</td>\n",
       "      <td>12.0</td>\n",
       "      <td>18.0</td>\n",
       "      <td>2019-05-13</td>\n",
       "      <td>383.0</td>\n",
       "      <td>389.0</td>\n",
       "    </tr>\n",
       "    <tr>\n",
       "      <th>1</th>\n",
       "      <td>0.02</td>\n",
       "      <td>0.94</td>\n",
       "      <td>2000</td>\n",
       "      <td>1.28</td>\n",
       "      <td>1.00</td>\n",
       "      <td>0.458</td>\n",
       "      <td>19.0</td>\n",
       "      <td>30.0</td>\n",
       "      <td>14.0</td>\n",
       "      <td>4.0</td>\n",
       "      <td>...</td>\n",
       "      <td>80.0</td>\n",
       "      <td>5.0</td>\n",
       "      <td>6.0</td>\n",
       "      <td>22800.0</td>\n",
       "      <td>9360.0</td>\n",
       "      <td>4.0</td>\n",
       "      <td>2.0</td>\n",
       "      <td>2019-05-13</td>\n",
       "      <td>375.0</td>\n",
       "      <td>373.0</td>\n",
       "    </tr>\n",
       "    <tr>\n",
       "      <th>2</th>\n",
       "      <td>0.04</td>\n",
       "      <td>0.96</td>\n",
       "      <td>0</td>\n",
       "      <td>1.00</td>\n",
       "      <td>1.00</td>\n",
       "      <td>0.114</td>\n",
       "      <td>13.0</td>\n",
       "      <td>68.0</td>\n",
       "      <td>22.0</td>\n",
       "      <td>1.0</td>\n",
       "      <td>...</td>\n",
       "      <td>87.0</td>\n",
       "      <td>1.0</td>\n",
       "      <td>1.0</td>\n",
       "      <td>4200.0</td>\n",
       "      <td>4200.0</td>\n",
       "      <td>2.0</td>\n",
       "      <td>6.0</td>\n",
       "      <td>2019-05-13</td>\n",
       "      <td>373.0</td>\n",
       "      <td>377.0</td>\n",
       "    </tr>\n",
       "    <tr>\n",
       "      <th>3</th>\n",
       "      <td>0.00</td>\n",
       "      <td>0.96</td>\n",
       "      <td>2000</td>\n",
       "      <td>0.13</td>\n",
       "      <td>0.57</td>\n",
       "      <td>0.777</td>\n",
       "      <td>22.0</td>\n",
       "      <td>14.0</td>\n",
       "      <td>6.0</td>\n",
       "      <td>3.0</td>\n",
       "      <td>...</td>\n",
       "      <td>80.0</td>\n",
       "      <td>5.0</td>\n",
       "      <td>5.0</td>\n",
       "      <td>30000.0</td>\n",
       "      <td>12180.0</td>\n",
       "      <td>2.0</td>\n",
       "      <td>4.0</td>\n",
       "      <td>2019-05-13</td>\n",
       "      <td>373.0</td>\n",
       "      <td>375.0</td>\n",
       "    </tr>\n",
       "    <tr>\n",
       "      <th>4</th>\n",
       "      <td>0.01</td>\n",
       "      <td>0.99</td>\n",
       "      <td>0</td>\n",
       "      <td>0.46</td>\n",
       "      <td>1.00</td>\n",
       "      <td>0.175</td>\n",
       "      <td>13.0</td>\n",
       "      <td>66.0</td>\n",
       "      <td>42.0</td>\n",
       "      <td>1.0</td>\n",
       "      <td>...</td>\n",
       "      <td>79.0</td>\n",
       "      <td>2.0</td>\n",
       "      <td>2.0</td>\n",
       "      <td>8400.0</td>\n",
       "      <td>8250.0</td>\n",
       "      <td>22.0</td>\n",
       "      <td>120.0</td>\n",
       "      <td>2019-05-13</td>\n",
       "      <td>393.0</td>\n",
       "      <td>491.0</td>\n",
       "    </tr>\n",
       "  </tbody>\n",
       "</table>\n",
       "<p>5 rows × 86 columns</p>\n",
       "</div>"
      ],
      "text/plain": [
       "   low_volume_percent  middle_volume_percent  \\\n",
       "0                0.01                   0.99   \n",
       "1                0.02                   0.94   \n",
       "2                0.04                   0.96   \n",
       "3                0.00                   0.96   \n",
       "4                0.01                   0.99   \n",
       "\n",
       "   take_amount_in_later_12_month_highest  trans_amount_increase_rate_lately  \\\n",
       "0                                      0                               0.90   \n",
       "1                                   2000                               1.28   \n",
       "2                                      0                               1.00   \n",
       "3                                   2000                               0.13   \n",
       "4                                      0                               0.46   \n",
       "\n",
       "   trans_activity_month  trans_activity_day  transd_mcc  \\\n",
       "0                  0.55               0.313        17.0   \n",
       "1                  1.00               0.458        19.0   \n",
       "2                  1.00               0.114        13.0   \n",
       "3                  0.57               0.777        22.0   \n",
       "4                  1.00               0.175        13.0   \n",
       "\n",
       "   trans_days_interval_filter  trans_days_interval  regional_mobility  ...  \\\n",
       "0                        27.0                 26.0                3.0  ...   \n",
       "1                        30.0                 14.0                4.0  ...   \n",
       "2                        68.0                 22.0                1.0  ...   \n",
       "3                        14.0                  6.0                3.0  ...   \n",
       "4                        66.0                 42.0                1.0  ...   \n",
       "\n",
       "   consfin_credibility  consfin_org_count_current  consfin_product_count  \\\n",
       "0                 75.0                        1.0                    2.0   \n",
       "1                 80.0                        5.0                    6.0   \n",
       "2                 87.0                        1.0                    1.0   \n",
       "3                 80.0                        5.0                    5.0   \n",
       "4                 79.0                        2.0                    2.0   \n",
       "\n",
       "   consfin_max_limit  consfin_avg_limit  latest_query_day  loans_latest_day  \\\n",
       "0             1200.0             1200.0              12.0              18.0   \n",
       "1            22800.0             9360.0               4.0               2.0   \n",
       "2             4200.0             4200.0               2.0               6.0   \n",
       "3            30000.0            12180.0               2.0               4.0   \n",
       "4             8400.0             8250.0              22.0             120.0   \n",
       "\n",
       "   today_date  latest_query_time_days  loans_latest_time_days  \n",
       "0  2019-05-13                   383.0                   389.0  \n",
       "1  2019-05-13                   375.0                   373.0  \n",
       "2  2019-05-13                   373.0                   377.0  \n",
       "3  2019-05-13                   373.0                   375.0  \n",
       "4  2019-05-13                   393.0                   491.0  \n",
       "\n",
       "[5 rows x 86 columns]"
      ]
     },
     "execution_count": 560,
     "metadata": {},
     "output_type": "execute_result"
    }
   ],
   "source": [
    "org_data1.head()\n",
    "# org_data1.dtypes"
   ]
  },
  {
   "cell_type": "code",
   "execution_count": 561,
   "metadata": {},
   "outputs": [],
   "source": [
    "#删掉变量latest_query_time和loans_latest_time\n",
    "org_data1 = org_data1.drop(['latest_query_time', 'loans_latest_time', 'today_date', 'first_transaction_time'], axis = 1)\n",
    "# org_data1 = org_data1.drop(['first_transaction_time', 'today_date'], axis = 1)"
   ]
  },
  {
   "cell_type": "code",
   "execution_count": 562,
   "metadata": {},
   "outputs": [
    {
     "data": {
      "text/html": [
       "<div>\n",
       "<style scoped>\n",
       "    .dataframe tbody tr th:only-of-type {\n",
       "        vertical-align: middle;\n",
       "    }\n",
       "\n",
       "    .dataframe tbody tr th {\n",
       "        vertical-align: top;\n",
       "    }\n",
       "\n",
       "    .dataframe thead th {\n",
       "        text-align: right;\n",
       "    }\n",
       "</style>\n",
       "<table border=\"1\" class=\"dataframe\">\n",
       "  <thead>\n",
       "    <tr style=\"text-align: right;\">\n",
       "      <th></th>\n",
       "      <th>low_volume_percent</th>\n",
       "      <th>middle_volume_percent</th>\n",
       "      <th>take_amount_in_later_12_month_highest</th>\n",
       "      <th>trans_amount_increase_rate_lately</th>\n",
       "      <th>trans_activity_month</th>\n",
       "      <th>trans_activity_day</th>\n",
       "      <th>transd_mcc</th>\n",
       "      <th>trans_days_interval_filter</th>\n",
       "      <th>trans_days_interval</th>\n",
       "      <th>regional_mobility</th>\n",
       "      <th>...</th>\n",
       "      <th>consfin_credit_limit</th>\n",
       "      <th>consfin_credibility</th>\n",
       "      <th>consfin_org_count_current</th>\n",
       "      <th>consfin_product_count</th>\n",
       "      <th>consfin_max_limit</th>\n",
       "      <th>consfin_avg_limit</th>\n",
       "      <th>latest_query_day</th>\n",
       "      <th>loans_latest_day</th>\n",
       "      <th>latest_query_time_days</th>\n",
       "      <th>loans_latest_time_days</th>\n",
       "    </tr>\n",
       "  </thead>\n",
       "  <tbody>\n",
       "    <tr>\n",
       "      <th>0</th>\n",
       "      <td>0.01</td>\n",
       "      <td>0.99</td>\n",
       "      <td>0</td>\n",
       "      <td>0.90</td>\n",
       "      <td>0.55</td>\n",
       "      <td>0.313</td>\n",
       "      <td>17.0</td>\n",
       "      <td>27.0</td>\n",
       "      <td>26.0</td>\n",
       "      <td>3.0</td>\n",
       "      <td>...</td>\n",
       "      <td>1200.0</td>\n",
       "      <td>75.0</td>\n",
       "      <td>1.0</td>\n",
       "      <td>2.0</td>\n",
       "      <td>1200.0</td>\n",
       "      <td>1200.0</td>\n",
       "      <td>12.0</td>\n",
       "      <td>18.0</td>\n",
       "      <td>383.0</td>\n",
       "      <td>389.0</td>\n",
       "    </tr>\n",
       "    <tr>\n",
       "      <th>1</th>\n",
       "      <td>0.02</td>\n",
       "      <td>0.94</td>\n",
       "      <td>2000</td>\n",
       "      <td>1.28</td>\n",
       "      <td>1.00</td>\n",
       "      <td>0.458</td>\n",
       "      <td>19.0</td>\n",
       "      <td>30.0</td>\n",
       "      <td>14.0</td>\n",
       "      <td>4.0</td>\n",
       "      <td>...</td>\n",
       "      <td>15100.0</td>\n",
       "      <td>80.0</td>\n",
       "      <td>5.0</td>\n",
       "      <td>6.0</td>\n",
       "      <td>22800.0</td>\n",
       "      <td>9360.0</td>\n",
       "      <td>4.0</td>\n",
       "      <td>2.0</td>\n",
       "      <td>375.0</td>\n",
       "      <td>373.0</td>\n",
       "    </tr>\n",
       "    <tr>\n",
       "      <th>2</th>\n",
       "      <td>0.04</td>\n",
       "      <td>0.96</td>\n",
       "      <td>0</td>\n",
       "      <td>1.00</td>\n",
       "      <td>1.00</td>\n",
       "      <td>0.114</td>\n",
       "      <td>13.0</td>\n",
       "      <td>68.0</td>\n",
       "      <td>22.0</td>\n",
       "      <td>1.0</td>\n",
       "      <td>...</td>\n",
       "      <td>4200.0</td>\n",
       "      <td>87.0</td>\n",
       "      <td>1.0</td>\n",
       "      <td>1.0</td>\n",
       "      <td>4200.0</td>\n",
       "      <td>4200.0</td>\n",
       "      <td>2.0</td>\n",
       "      <td>6.0</td>\n",
       "      <td>373.0</td>\n",
       "      <td>377.0</td>\n",
       "    </tr>\n",
       "    <tr>\n",
       "      <th>3</th>\n",
       "      <td>0.00</td>\n",
       "      <td>0.96</td>\n",
       "      <td>2000</td>\n",
       "      <td>0.13</td>\n",
       "      <td>0.57</td>\n",
       "      <td>0.777</td>\n",
       "      <td>22.0</td>\n",
       "      <td>14.0</td>\n",
       "      <td>6.0</td>\n",
       "      <td>3.0</td>\n",
       "      <td>...</td>\n",
       "      <td>16300.0</td>\n",
       "      <td>80.0</td>\n",
       "      <td>5.0</td>\n",
       "      <td>5.0</td>\n",
       "      <td>30000.0</td>\n",
       "      <td>12180.0</td>\n",
       "      <td>2.0</td>\n",
       "      <td>4.0</td>\n",
       "      <td>373.0</td>\n",
       "      <td>375.0</td>\n",
       "    </tr>\n",
       "    <tr>\n",
       "      <th>4</th>\n",
       "      <td>0.01</td>\n",
       "      <td>0.99</td>\n",
       "      <td>0</td>\n",
       "      <td>0.46</td>\n",
       "      <td>1.00</td>\n",
       "      <td>0.175</td>\n",
       "      <td>13.0</td>\n",
       "      <td>66.0</td>\n",
       "      <td>42.0</td>\n",
       "      <td>1.0</td>\n",
       "      <td>...</td>\n",
       "      <td>8300.0</td>\n",
       "      <td>79.0</td>\n",
       "      <td>2.0</td>\n",
       "      <td>2.0</td>\n",
       "      <td>8400.0</td>\n",
       "      <td>8250.0</td>\n",
       "      <td>22.0</td>\n",
       "      <td>120.0</td>\n",
       "      <td>393.0</td>\n",
       "      <td>491.0</td>\n",
       "    </tr>\n",
       "  </tbody>\n",
       "</table>\n",
       "<p>5 rows × 82 columns</p>\n",
       "</div>"
      ],
      "text/plain": [
       "   low_volume_percent  middle_volume_percent  \\\n",
       "0                0.01                   0.99   \n",
       "1                0.02                   0.94   \n",
       "2                0.04                   0.96   \n",
       "3                0.00                   0.96   \n",
       "4                0.01                   0.99   \n",
       "\n",
       "   take_amount_in_later_12_month_highest  trans_amount_increase_rate_lately  \\\n",
       "0                                      0                               0.90   \n",
       "1                                   2000                               1.28   \n",
       "2                                      0                               1.00   \n",
       "3                                   2000                               0.13   \n",
       "4                                      0                               0.46   \n",
       "\n",
       "   trans_activity_month  trans_activity_day  transd_mcc  \\\n",
       "0                  0.55               0.313        17.0   \n",
       "1                  1.00               0.458        19.0   \n",
       "2                  1.00               0.114        13.0   \n",
       "3                  0.57               0.777        22.0   \n",
       "4                  1.00               0.175        13.0   \n",
       "\n",
       "   trans_days_interval_filter  trans_days_interval  regional_mobility  ...  \\\n",
       "0                        27.0                 26.0                3.0  ...   \n",
       "1                        30.0                 14.0                4.0  ...   \n",
       "2                        68.0                 22.0                1.0  ...   \n",
       "3                        14.0                  6.0                3.0  ...   \n",
       "4                        66.0                 42.0                1.0  ...   \n",
       "\n",
       "   consfin_credit_limit  consfin_credibility  consfin_org_count_current  \\\n",
       "0                1200.0                 75.0                        1.0   \n",
       "1               15100.0                 80.0                        5.0   \n",
       "2                4200.0                 87.0                        1.0   \n",
       "3               16300.0                 80.0                        5.0   \n",
       "4                8300.0                 79.0                        2.0   \n",
       "\n",
       "   consfin_product_count  consfin_max_limit  consfin_avg_limit  \\\n",
       "0                    2.0             1200.0             1200.0   \n",
       "1                    6.0            22800.0             9360.0   \n",
       "2                    1.0             4200.0             4200.0   \n",
       "3                    5.0            30000.0            12180.0   \n",
       "4                    2.0             8400.0             8250.0   \n",
       "\n",
       "   latest_query_day  loans_latest_day  latest_query_time_days  \\\n",
       "0              12.0              18.0                   383.0   \n",
       "1               4.0               2.0                   375.0   \n",
       "2               2.0               6.0                   373.0   \n",
       "3               2.0               4.0                   373.0   \n",
       "4              22.0             120.0                   393.0   \n",
       "\n",
       "   loans_latest_time_days  \n",
       "0                   389.0  \n",
       "1                   373.0  \n",
       "2                   377.0  \n",
       "3                   375.0  \n",
       "4                   491.0  \n",
       "\n",
       "[5 rows x 82 columns]"
      ]
     },
     "execution_count": 562,
     "metadata": {},
     "output_type": "execute_result"
    }
   ],
   "source": [
    "org_data1.head()"
   ]
  },
  {
   "cell_type": "code",
   "execution_count": 563,
   "metadata": {},
   "outputs": [
    {
     "data": {
      "text/plain": [
       "low_volume_percent                          40\n",
       "middle_volume_percent                       90\n",
       "take_amount_in_later_12_month_highest      166\n",
       "trans_amount_increase_rate_lately          782\n",
       "trans_activity_month                        84\n",
       "trans_activity_day                         512\n",
       "transd_mcc                                  41\n",
       "trans_days_interval_filter                 147\n",
       "trans_days_interval                        114\n",
       "regional_mobility                            5\n",
       "repayment_capability                      2390\n",
       "is_high_user                                 2\n",
       "number_of_trans_from_2011                   70\n",
       "historical_trans_amount                   4524\n",
       "historical_trans_day                       476\n",
       "rank_trad_1_month                           20\n",
       "trans_amount_3_month                      3524\n",
       "avg_consume_less_12_valid_month             12\n",
       "abs                                       1697\n",
       "top_trans_count_last_1_month                 8\n",
       "avg_price_last_12_month                    330\n",
       "avg_price_top_last_12_valid_month           20\n",
       "reg_preference_for_trad                      5\n",
       "trans_top_time_last_1_month                 28\n",
       "trans_top_time_last_6_month                 97\n",
       "consume_top_time_last_1_month               28\n",
       "consume_top_time_last_6_month               94\n",
       "cross_consume_count_last_1_month            19\n",
       "trans_fail_top_count_enum_last_1_month      15\n",
       "trans_fail_top_count_enum_last_6_month      25\n",
       "                                          ... \n",
       "loans_count                                134\n",
       "loans_settle_count                         123\n",
       "loans_overdue_count                         26\n",
       "loans_org_count_behavior                    41\n",
       "consfin_org_count_behavior                  19\n",
       "loans_cash_count                            32\n",
       "latest_one_month_loan                       14\n",
       "latest_three_month_loan                     31\n",
       "latest_six_month_loan                       67\n",
       "history_suc_fee                            171\n",
       "history_fail_fee                           151\n",
       "latest_one_month_suc                        19\n",
       "latest_one_month_fail                       41\n",
       "loans_long_time                            202\n",
       "loans_credit_limit                          54\n",
       "loans_credibility_limit                     33\n",
       "loans_org_count_current                     32\n",
       "loans_product_count                         32\n",
       "loans_max_limit                             91\n",
       "loans_avg_limit                            961\n",
       "consfin_credit_limit                       327\n",
       "consfin_credibility                         24\n",
       "consfin_org_count_current                   19\n",
       "consfin_product_count                       20\n",
       "consfin_max_limit                          175\n",
       "consfin_avg_limit                         1677\n",
       "latest_query_day                           210\n",
       "loans_latest_day                           235\n",
       "latest_query_time_days                     207\n",
       "loans_latest_time_days                     232\n",
       "Length: 82, dtype: int64"
      ]
     },
     "execution_count": 563,
     "metadata": {},
     "output_type": "execute_result"
    }
   ],
   "source": [
    "org_data1.nunique()"
   ]
  },
  {
   "cell_type": "code",
   "execution_count": 564,
   "metadata": {},
   "outputs": [
    {
     "name": "stdout",
     "output_type": "stream",
     "text": [
      "1\n",
      "Index(['reg_preference_for_trad'], dtype='object')\n"
     ]
    }
   ],
   "source": [
    "var_char = org_data1.dtypes[org_data1.dtypes == 'object'].index\n",
    "print(len(var_char))\n",
    "print(var_char)"
   ]
  },
  {
   "cell_type": "code",
   "execution_count": 565,
   "metadata": {},
   "outputs": [],
   "source": [
    "# \n",
    "org_data1_count = pd.DataFrame(org_data1.nunique())\n",
    "var_char1 = org_data1_count[org_data1_count.iloc[:,0] <= 20].index\n",
    "var_char1 = list(set(var_char1) - set(var_y))\n",
    "var_char = list(var_char) + list(var_char1)"
   ]
  },
  {
   "cell_type": "code",
   "execution_count": 566,
   "metadata": {},
   "outputs": [
    {
     "data": {
      "text/plain": [
       "['reg_preference_for_trad',\n",
       " 'is_high_user',\n",
       " 'consfin_product_count',\n",
       " 'cross_consume_count_last_1_month',\n",
       " 'latest_one_month_loan',\n",
       " 'trans_fail_top_count_enum_last_1_month',\n",
       " 'reg_preference_for_trad',\n",
       " 'consfin_org_count_behavior',\n",
       " 'regional_mobility',\n",
       " 'query_cash_count',\n",
       " 'latest_one_month_suc',\n",
       " 'top_trans_count_last_1_month',\n",
       " 'railway_consume_count_last_12_month',\n",
       " 'avg_consume_less_12_valid_month',\n",
       " 'consfin_org_count_current',\n",
       " 'rank_trad_1_month',\n",
       " 'avg_price_top_last_12_valid_month',\n",
       " 'jewelry_consume_count_last_6_month']"
      ]
     },
     "execution_count": 566,
     "metadata": {},
     "output_type": "execute_result"
    }
   ],
   "source": [
    "var_char"
   ]
  },
  {
   "cell_type": "code",
   "execution_count": 567,
   "metadata": {},
   "outputs": [
    {
     "name": "stdout",
     "output_type": "stream",
     "text": [
      "18\n",
      "['reg_preference_for_trad', 'is_high_user', 'consfin_product_count', 'cross_consume_count_last_1_month', 'latest_one_month_loan', 'trans_fail_top_count_enum_last_1_month', 'reg_preference_for_trad', 'consfin_org_count_behavior', 'regional_mobility', 'query_cash_count', 'latest_one_month_suc', 'top_trans_count_last_1_month', 'railway_consume_count_last_12_month', 'avg_consume_less_12_valid_month', 'consfin_org_count_current', 'rank_trad_1_month', 'avg_price_top_last_12_valid_month', 'jewelry_consume_count_last_6_month']\n"
     ]
    }
   ],
   "source": [
    "print(len(var_char))\n",
    "print(var_char)"
   ]
  },
  {
   "cell_type": "code",
   "execution_count": 568,
   "metadata": {},
   "outputs": [
    {
     "data": {
      "text/plain": [
       "list"
      ]
     },
     "execution_count": 568,
     "metadata": {},
     "output_type": "execute_result"
    }
   ],
   "source": [
    "type(var_char)"
   ]
  },
  {
   "cell_type": "code",
   "execution_count": 569,
   "metadata": {},
   "outputs": [
    {
     "name": "stdout",
     "output_type": "stream",
     "text": [
      "['status']\n",
      "64\n",
      "['loans_latest_time_days', 'max_cumulative_consume_later_1_month', 'trans_day_last_12_month', 'query_org_count', 'number_of_trans_from_2011', 'trans_amount_3_month', 'loans_score', 'loans_cash_count', 'pawns_auctions_trusts_consume_last_6_month', 'apply_credibility', 'loans_credit_limit', 'max_consume_count_later_6_month', 'latest_three_month_apply', 'loans_avg_limit', 'consume_mini_time_last_1_month', 'loans_credibility_behavior', 'first_transaction_day', 'loans_credibility_limit', 'transd_mcc', 'trans_fail_top_count_enum_last_6_month', 'latest_six_month_loan', 'loans_settle_count', 'loans_max_limit', 'historical_trans_amount', 'avg_price_last_12_month', 'latest_six_month_apply', 'trans_days_interval_filter', 'consfin_credit_limit', 'history_suc_fee', 'trans_amount_increase_rate_lately', 'trans_activity_month', 'trans_top_time_last_1_month', 'loans_org_count_current', 'repayment_capability', 'apply_score', 'trans_days_interval', 'query_sum_count', 'consume_top_time_last_6_month', 'latest_one_month_apply', 'loans_product_count', 'trans_top_time_last_6_month', 'loans_org_count_behavior', 'history_fail_fee', 'loans_latest_day', 'take_amount_in_later_12_month_highest', 'middle_volume_percent', 'loans_count', 'consfin_avg_limit', 'trans_fail_top_count_enum_last_12_month', 'latest_one_month_fail', 'low_volume_percent', 'trans_activity_day', 'historical_trans_day', 'latest_query_time_days', 'loans_overdue_count', 'abs', 'consume_top_time_last_1_month', 'latest_query_day', 'pawns_auctions_trusts_consume_last_1_month', 'query_finance_count', 'consfin_credibility', 'consfin_max_limit', 'loans_long_time', 'latest_three_month_loan']\n"
     ]
    }
   ],
   "source": [
    "# 重新生成数值变量\n",
    "var_num = org_data1.dtypes[org_data1.dtypes != 'object'].index\n",
    "var_num = list(set(var_num) - set(var_y))\n",
    "var_num = list(set(var_num) - set(var_char))\n",
    "print(var_y)\n",
    "print(len(var_num))\n",
    "print(var_num)"
   ]
  },
  {
   "cell_type": "code",
   "execution_count": 570,
   "metadata": {},
   "outputs": [],
   "source": [
    "# 对数值缺失变量采用均值替换，对分类变量采用众数替换\n",
    "for i in var_num:\n",
    "    org_data1[i].fillna(org_data1[i].mean(),inplace = True)\n",
    "    \n",
    "for i in var_char:\n",
    "    org_data1[i].fillna(org_data1[i].mode()[0],inplace = True)\n"
   ]
  },
  {
   "cell_type": "code",
   "execution_count": 571,
   "metadata": {},
   "outputs": [
    {
     "name": "stdout",
     "output_type": "stream",
     "text": [
      "Series([], Name: count, dtype: float64)\n"
     ]
    }
   ],
   "source": [
    "# 再次打印缺失占比\n",
    "missing_rate_t1 = 1 - org_data1.describe().T['count'] / len(org_data)\n",
    "missing_rate1 = missing_rate_t1[missing_rate_t1 > 0].sort_values(ascending = False)\n",
    "print(missing_rate1)"
   ]
  },
  {
   "cell_type": "markdown",
   "metadata": {},
   "source": [
    "## 4、变量筛选"
   ]
  },
  {
   "cell_type": "code",
   "execution_count": 572,
   "metadata": {},
   "outputs": [
    {
     "name": "stdout",
     "output_type": "stream",
     "text": [
      "Index(['take_amount_in_later_12_month_highest',\n",
      "       'trans_amount_increase_rate_lately', 'trans_activity_month',\n",
      "       'transd_mcc', 'trans_days_interval_filter', 'trans_days_interval',\n",
      "       'repayment_capability', 'abs', 'cross_consume_count_last_1_month',\n",
      "       'max_consume_count_later_6_month', 'jewelry_consume_count_last_6_month',\n",
      "       'query_finance_count', 'latest_three_month_apply',\n",
      "       'latest_six_month_apply', 'loans_credibility_behavior',\n",
      "       'loans_long_time', 'loans_credibility_limit', 'loans_avg_limit'],\n",
      "      dtype='object')\n"
     ]
    }
   ],
   "source": [
    "# 连续变量——相关系数，将相关系数较低的变量删除\n",
    "org_data1_corr = abs(org_data1.corr()['status'])\n",
    "org_data1_corr_re = org_data1_corr[org_data1_corr.values < 0.02].index\n",
    "print(org_data1_corr_re)"
   ]
  },
  {
   "cell_type": "code",
   "execution_count": 573,
   "metadata": {},
   "outputs": [
    {
     "name": "stdout",
     "output_type": "stream",
     "text": [
      "48\n"
     ]
    }
   ],
   "source": [
    "#数值型变量剩余48个，依然较多\n",
    "var_num_f =list(set(var_num)- set(org_data1_corr_re))\n",
    "print(len(var_num_f))"
   ]
  },
  {
   "cell_type": "code",
   "execution_count": 574,
   "metadata": {},
   "outputs": [
    {
     "data": {
      "text/html": [
       "<div>\n",
       "<style scoped>\n",
       "    .dataframe tbody tr th:only-of-type {\n",
       "        vertical-align: middle;\n",
       "    }\n",
       "\n",
       "    .dataframe tbody tr th {\n",
       "        vertical-align: top;\n",
       "    }\n",
       "\n",
       "    .dataframe thead th {\n",
       "        text-align: right;\n",
       "    }\n",
       "</style>\n",
       "<table border=\"1\" class=\"dataframe\">\n",
       "  <thead>\n",
       "    <tr style=\"text-align: right;\">\n",
       "      <th></th>\n",
       "      <th>low_volume_percent</th>\n",
       "      <th>middle_volume_percent</th>\n",
       "      <th>take_amount_in_later_12_month_highest</th>\n",
       "      <th>trans_amount_increase_rate_lately</th>\n",
       "      <th>trans_activity_month</th>\n",
       "      <th>trans_activity_day</th>\n",
       "      <th>transd_mcc</th>\n",
       "      <th>trans_days_interval_filter</th>\n",
       "      <th>trans_days_interval</th>\n",
       "      <th>regional_mobility</th>\n",
       "      <th>...</th>\n",
       "      <th>consfin_credit_limit</th>\n",
       "      <th>consfin_credibility</th>\n",
       "      <th>consfin_org_count_current</th>\n",
       "      <th>consfin_product_count</th>\n",
       "      <th>consfin_max_limit</th>\n",
       "      <th>consfin_avg_limit</th>\n",
       "      <th>latest_query_day</th>\n",
       "      <th>loans_latest_day</th>\n",
       "      <th>latest_query_time_days</th>\n",
       "      <th>loans_latest_time_days</th>\n",
       "    </tr>\n",
       "  </thead>\n",
       "  <tbody>\n",
       "    <tr>\n",
       "      <th>0</th>\n",
       "      <td>0.01</td>\n",
       "      <td>0.99</td>\n",
       "      <td>0</td>\n",
       "      <td>0.90</td>\n",
       "      <td>0.55</td>\n",
       "      <td>0.313</td>\n",
       "      <td>17.0</td>\n",
       "      <td>27.0</td>\n",
       "      <td>26.0</td>\n",
       "      <td>3.0</td>\n",
       "      <td>...</td>\n",
       "      <td>1200.0</td>\n",
       "      <td>75.0</td>\n",
       "      <td>1.0</td>\n",
       "      <td>2.0</td>\n",
       "      <td>1200.0</td>\n",
       "      <td>1200.0</td>\n",
       "      <td>12.0</td>\n",
       "      <td>18.0</td>\n",
       "      <td>383.0</td>\n",
       "      <td>389.0</td>\n",
       "    </tr>\n",
       "    <tr>\n",
       "      <th>1</th>\n",
       "      <td>0.02</td>\n",
       "      <td>0.94</td>\n",
       "      <td>2000</td>\n",
       "      <td>1.28</td>\n",
       "      <td>1.00</td>\n",
       "      <td>0.458</td>\n",
       "      <td>19.0</td>\n",
       "      <td>30.0</td>\n",
       "      <td>14.0</td>\n",
       "      <td>4.0</td>\n",
       "      <td>...</td>\n",
       "      <td>15100.0</td>\n",
       "      <td>80.0</td>\n",
       "      <td>5.0</td>\n",
       "      <td>6.0</td>\n",
       "      <td>22800.0</td>\n",
       "      <td>9360.0</td>\n",
       "      <td>4.0</td>\n",
       "      <td>2.0</td>\n",
       "      <td>375.0</td>\n",
       "      <td>373.0</td>\n",
       "    </tr>\n",
       "    <tr>\n",
       "      <th>2</th>\n",
       "      <td>0.04</td>\n",
       "      <td>0.96</td>\n",
       "      <td>0</td>\n",
       "      <td>1.00</td>\n",
       "      <td>1.00</td>\n",
       "      <td>0.114</td>\n",
       "      <td>13.0</td>\n",
       "      <td>68.0</td>\n",
       "      <td>22.0</td>\n",
       "      <td>1.0</td>\n",
       "      <td>...</td>\n",
       "      <td>4200.0</td>\n",
       "      <td>87.0</td>\n",
       "      <td>1.0</td>\n",
       "      <td>1.0</td>\n",
       "      <td>4200.0</td>\n",
       "      <td>4200.0</td>\n",
       "      <td>2.0</td>\n",
       "      <td>6.0</td>\n",
       "      <td>373.0</td>\n",
       "      <td>377.0</td>\n",
       "    </tr>\n",
       "    <tr>\n",
       "      <th>3</th>\n",
       "      <td>0.00</td>\n",
       "      <td>0.96</td>\n",
       "      <td>2000</td>\n",
       "      <td>0.13</td>\n",
       "      <td>0.57</td>\n",
       "      <td>0.777</td>\n",
       "      <td>22.0</td>\n",
       "      <td>14.0</td>\n",
       "      <td>6.0</td>\n",
       "      <td>3.0</td>\n",
       "      <td>...</td>\n",
       "      <td>16300.0</td>\n",
       "      <td>80.0</td>\n",
       "      <td>5.0</td>\n",
       "      <td>5.0</td>\n",
       "      <td>30000.0</td>\n",
       "      <td>12180.0</td>\n",
       "      <td>2.0</td>\n",
       "      <td>4.0</td>\n",
       "      <td>373.0</td>\n",
       "      <td>375.0</td>\n",
       "    </tr>\n",
       "    <tr>\n",
       "      <th>4</th>\n",
       "      <td>0.01</td>\n",
       "      <td>0.99</td>\n",
       "      <td>0</td>\n",
       "      <td>0.46</td>\n",
       "      <td>1.00</td>\n",
       "      <td>0.175</td>\n",
       "      <td>13.0</td>\n",
       "      <td>66.0</td>\n",
       "      <td>42.0</td>\n",
       "      <td>1.0</td>\n",
       "      <td>...</td>\n",
       "      <td>8300.0</td>\n",
       "      <td>79.0</td>\n",
       "      <td>2.0</td>\n",
       "      <td>2.0</td>\n",
       "      <td>8400.0</td>\n",
       "      <td>8250.0</td>\n",
       "      <td>22.0</td>\n",
       "      <td>120.0</td>\n",
       "      <td>393.0</td>\n",
       "      <td>491.0</td>\n",
       "    </tr>\n",
       "  </tbody>\n",
       "</table>\n",
       "<p>5 rows × 82 columns</p>\n",
       "</div>"
      ],
      "text/plain": [
       "   low_volume_percent  middle_volume_percent  \\\n",
       "0                0.01                   0.99   \n",
       "1                0.02                   0.94   \n",
       "2                0.04                   0.96   \n",
       "3                0.00                   0.96   \n",
       "4                0.01                   0.99   \n",
       "\n",
       "   take_amount_in_later_12_month_highest  trans_amount_increase_rate_lately  \\\n",
       "0                                      0                               0.90   \n",
       "1                                   2000                               1.28   \n",
       "2                                      0                               1.00   \n",
       "3                                   2000                               0.13   \n",
       "4                                      0                               0.46   \n",
       "\n",
       "   trans_activity_month  trans_activity_day  transd_mcc  \\\n",
       "0                  0.55               0.313        17.0   \n",
       "1                  1.00               0.458        19.0   \n",
       "2                  1.00               0.114        13.0   \n",
       "3                  0.57               0.777        22.0   \n",
       "4                  1.00               0.175        13.0   \n",
       "\n",
       "   trans_days_interval_filter  trans_days_interval  regional_mobility  ...  \\\n",
       "0                        27.0                 26.0                3.0  ...   \n",
       "1                        30.0                 14.0                4.0  ...   \n",
       "2                        68.0                 22.0                1.0  ...   \n",
       "3                        14.0                  6.0                3.0  ...   \n",
       "4                        66.0                 42.0                1.0  ...   \n",
       "\n",
       "   consfin_credit_limit  consfin_credibility  consfin_org_count_current  \\\n",
       "0                1200.0                 75.0                        1.0   \n",
       "1               15100.0                 80.0                        5.0   \n",
       "2                4200.0                 87.0                        1.0   \n",
       "3               16300.0                 80.0                        5.0   \n",
       "4                8300.0                 79.0                        2.0   \n",
       "\n",
       "   consfin_product_count  consfin_max_limit  consfin_avg_limit  \\\n",
       "0                    2.0             1200.0             1200.0   \n",
       "1                    6.0            22800.0             9360.0   \n",
       "2                    1.0             4200.0             4200.0   \n",
       "3                    5.0            30000.0            12180.0   \n",
       "4                    2.0             8400.0             8250.0   \n",
       "\n",
       "   latest_query_day  loans_latest_day  latest_query_time_days  \\\n",
       "0              12.0              18.0                   383.0   \n",
       "1               4.0               2.0                   375.0   \n",
       "2               2.0               6.0                   373.0   \n",
       "3               2.0               4.0                   373.0   \n",
       "4              22.0             120.0                   393.0   \n",
       "\n",
       "   loans_latest_time_days  \n",
       "0                   389.0  \n",
       "1                   373.0  \n",
       "2                   377.0  \n",
       "3                   375.0  \n",
       "4                   491.0  \n",
       "\n",
       "[5 rows x 82 columns]"
      ]
     },
     "execution_count": 574,
     "metadata": {},
     "output_type": "execute_result"
    }
   ],
   "source": [
    "org_data1.head()"
   ]
  },
  {
   "cell_type": "code",
   "execution_count": 575,
   "metadata": {},
   "outputs": [
    {
     "data": {
      "text/plain": [
       "reg_preference_for_trad\n",
       "一线城市    3405\n",
       "三线城市    1064\n",
       "二线城市     131\n",
       "其他城市       4\n",
       "境外       150\n",
       "Name: reg_preference_for_trad, dtype: int64"
      ]
     },
     "execution_count": 575,
     "metadata": {},
     "output_type": "execute_result"
    }
   ],
   "source": [
    "org_data1.groupby(['reg_preference_for_trad'])['reg_preference_for_trad'].count()"
   ]
  },
  {
   "cell_type": "code",
   "execution_count": 576,
   "metadata": {},
   "outputs": [
    {
     "name": "stdout",
     "output_type": "stream",
     "text": [
      "1\n",
      "Index(['reg_preference_for_trad'], dtype='object')\n"
     ]
    }
   ],
   "source": [
    "var_char1 = org_data1.dtypes[org_data1.dtypes == 'object'].index\n",
    "print(len(var_char1))\n",
    "print(var_char1)"
   ]
  },
  {
   "cell_type": "code",
   "execution_count": 577,
   "metadata": {},
   "outputs": [],
   "source": [
    "# 对reg_preference_for_trad进行编码\n",
    "city_code = {'一线城市':1, '二线城市':2, '三线城市':3, '其他城市':4, '境外':5}\n",
    "org_data1['city_code'] = org_data1.reg_preference_for_trad.map(city_code)\n",
    "org_data1[['city_code']].head()\n",
    "org_data1 = org_data1.drop(['reg_preference_for_trad'], axis = 1)"
   ]
  },
  {
   "cell_type": "code",
   "execution_count": 578,
   "metadata": {},
   "outputs": [],
   "source": [
    "# 重新生成分类变量列表\n",
    "var_char = list(set(var_char)- set(['reg_preference_for_trad']))\n",
    "var_char += list(['city_code'])"
   ]
  },
  {
   "cell_type": "code",
   "execution_count": 579,
   "metadata": {},
   "outputs": [
    {
     "name": "stdout",
     "output_type": "stream",
     "text": [
      "17\n",
      "['is_high_user', 'consfin_product_count', 'cross_consume_count_last_1_month', 'latest_one_month_loan', 'trans_fail_top_count_enum_last_1_month', 'consfin_org_count_behavior', 'regional_mobility', 'query_cash_count', 'latest_one_month_suc', 'top_trans_count_last_1_month', 'railway_consume_count_last_12_month', 'avg_consume_less_12_valid_month', 'consfin_org_count_current', 'rank_trad_1_month', 'avg_price_top_last_12_valid_month', 'jewelry_consume_count_last_6_month', 'city_code']\n"
     ]
    }
   ],
   "source": [
    "print(len(var_char))\n",
    "print(var_char)"
   ]
  },
  {
   "cell_type": "code",
   "execution_count": 580,
   "metadata": {},
   "outputs": [
    {
     "name": "stdout",
     "output_type": "stream",
     "text": [
      "trans_fail_top_count_enum_last_1_month    0.605834\n",
      "latest_one_month_suc                      0.144222\n",
      "rank_trad_1_month                         0.127129\n",
      "top_trans_count_last_1_month              0.072685\n",
      "avg_price_top_last_12_valid_month         0.044958\n",
      "query_cash_count                          0.031850\n",
      "consfin_product_count                     0.025901\n",
      "consfin_org_count_current                 0.025889\n",
      "consfin_org_count_behavior                0.025889\n",
      "latest_one_month_loan                     0.018087\n",
      "cross_consume_count_last_1_month          0.016866\n",
      "avg_consume_less_12_valid_month           0.013734\n",
      "regional_mobility                         0.007948\n",
      "railway_consume_count_last_12_month       0.007215\n",
      "city_code                                 0.006084\n",
      "is_high_user                              0.005614\n",
      "jewelry_consume_count_last_6_month        0.003111\n",
      "dtype: float64\n"
     ]
    }
   ],
   "source": [
    "# 根据iv值筛选变量-分类变量\n",
    "char_iv_d = {}\n",
    "for i in var_char:\n",
    "    char_iv_d[i] = WoE(v_type='d').fit(pd.Series(org_data1[i]), pd.Series(org_data1[var_y[0]])).iv\n",
    "\n",
    "char_sort_iv_d = pd.Series(char_iv_d).sort_values(ascending = False)\n",
    "print(char_sort_iv_d)\n",
    "\n",
    "# 以 2% 作为选取变量的阈值\n",
    "var_char_s = list(char_sort_iv_d[char_sort_iv_d > 0.02].index)"
   ]
  },
  {
   "cell_type": "code",
   "execution_count": 581,
   "metadata": {},
   "outputs": [
    {
     "name": "stdout",
     "output_type": "stream",
     "text": [
      "保留的分类变量有：9个\n",
      "['trans_fail_top_count_enum_last_1_month', 'latest_one_month_suc', 'rank_trad_1_month', 'top_trans_count_last_1_month', 'avg_price_top_last_12_valid_month', 'query_cash_count', 'consfin_product_count', 'consfin_org_count_current', 'consfin_org_count_behavior']\n"
     ]
    }
   ],
   "source": [
    "# 初步筛选的分类变量汇总\n",
    "print(\"保留的分类变量有：%s个\"%len(var_char_s))\n",
    "print(var_char_s)"
   ]
  },
  {
   "cell_type": "code",
   "execution_count": 582,
   "metadata": {},
   "outputs": [
    {
     "name": "stdout",
     "output_type": "stream",
     "text": [
      "保留的连续变量有：48个\n",
      "['history_suc_fee', 'loans_latest_time_days', 'max_cumulative_consume_later_1_month', 'trans_day_last_12_month', 'query_org_count', 'number_of_trans_from_2011', 'trans_amount_3_month', 'trans_top_time_last_1_month', 'loans_org_count_current', 'loans_score', 'loans_cash_count', 'pawns_auctions_trusts_consume_last_6_month', 'apply_score', 'query_sum_count', 'consume_top_time_last_6_month', 'apply_credibility', 'latest_one_month_apply', 'loans_product_count', 'trans_top_time_last_6_month', 'loans_org_count_behavior', 'loans_credit_limit', 'history_fail_fee', 'loans_latest_day', 'middle_volume_percent', 'consume_mini_time_last_1_month', 'first_transaction_day', 'loans_count', 'consfin_avg_limit', 'trans_fail_top_count_enum_last_12_month', 'latest_one_month_fail', 'trans_fail_top_count_enum_last_6_month', 'latest_six_month_loan', 'low_volume_percent', 'loans_settle_count', 'trans_activity_day', 'historical_trans_day', 'latest_query_time_days', 'loans_max_limit', 'loans_overdue_count', 'consume_top_time_last_1_month', 'historical_trans_amount', 'latest_query_day', 'avg_price_last_12_month', 'pawns_auctions_trusts_consume_last_1_month', 'consfin_credibility', 'consfin_max_limit', 'consfin_credit_limit', 'latest_three_month_loan']\n"
     ]
    }
   ],
   "source": [
    "# 初步筛选的连续变量汇总\n",
    "print(\"保留的连续变量有：%s个\"%len(var_num_f))\n",
    "print(var_num_f)"
   ]
  },
  {
   "cell_type": "code",
   "execution_count": 583,
   "metadata": {},
   "outputs": [],
   "source": [
    "# 分类变量——卡方检验，检验不显著的删除\n",
    "# stats.chi2_contingency()"
   ]
  },
  {
   "cell_type": "code",
   "execution_count": 584,
   "metadata": {},
   "outputs": [],
   "source": [
    "# 根据IV值筛选变量-连续变量(连续变量需要先分箱才能计算IV值)\n",
    "# num_iv_c = {}\n",
    "# for i in var_num:\n",
    "#     num_iv_c[i] = WoE(v_type='c',t_type='b',qnt_num=3).fit(pd.Series(org_data1[i]), pd.Series(org_data1[var_y[0]])).iv \n",
    "\n",
    "# num_sort_iv_c = pd.Series(num_iv_c).sort_values(ascending=False)\n",
    "# num_sort_iv_c\n",
    "\n",
    "# # 以 2% 作为选取变量的阈值\n",
    "# var_num_s = list(num_sort_iv_c[num_sort_iv_c > 0.02].index)\n",
    "# var_num_s"
   ]
  },
  {
   "cell_type": "code",
   "execution_count": 585,
   "metadata": {},
   "outputs": [],
   "source": [
    "# 处理完成的数据集保存\n",
    "org_data1 = org_data1[var_char_s + var_num_f + var_y].copy()\n",
    "org_data1.to_csv(\"org_data.csv\", index=False)"
   ]
  },
  {
   "cell_type": "code",
   "execution_count": 586,
   "metadata": {},
   "outputs": [],
   "source": [
    "# # 数据拆分\n",
    "y = org_data1[var_y]\n",
    "x = org_data1[var_char_s + var_num_f]\n",
    "x_train, x_test, y_train, y_test = train_test_split(x, y, test_size=0.3, random_state=2018)"
   ]
  },
  {
   "cell_type": "code",
   "execution_count": 587,
   "metadata": {},
   "outputs": [
    {
     "name": "stderr",
     "output_type": "stream",
     "text": [
      "D:\\Anaconda3\\lib\\site-packages\\sklearn\\ensemble\\forest.py:246: FutureWarning: The default value of n_estimators will change from 10 in version 0.20 to 100 in 0.22.\n",
      "  \"10 in version 0.20 to 100 in 0.22.\", FutureWarning)\n",
      "D:\\Anaconda3\\lib\\site-packages\\ipykernel_launcher.py:4: DataConversionWarning: A column-vector y was passed when a 1d array was expected. Please change the shape of y to (n_samples,), for example using ravel().\n",
      "  after removing the cwd from sys.path.\n"
     ]
    },
    {
     "data": {
      "text/plain": [
       "RandomForestClassifier(bootstrap=True, class_weight=None, criterion='gini',\n",
       "            max_depth=None, max_features='auto', max_leaf_nodes=None,\n",
       "            min_impurity_decrease=0.0, min_impurity_split=None,\n",
       "            min_samples_leaf=1, min_samples_split=2,\n",
       "            min_weight_fraction_leaf=0.0, n_estimators=10, n_jobs=None,\n",
       "            oob_score=False, random_state=None, verbose=0,\n",
       "            warm_start=False)"
      ]
     },
     "execution_count": 587,
     "metadata": {},
     "output_type": "execute_result"
    }
   ],
   "source": [
    "# 通过随机森林进一步筛选变量\n",
    "tf = RandomForestClassifier(criterion='gini')\n",
    "# tf = RandomForestClassifier(criterion='entropy', n_estimators=3, max_features=0.5, min_samples_split=5)\n",
    "tf_model = tf.fit(x_train, y_train)\n",
    "tf_model"
   ]
  },
  {
   "cell_type": "code",
   "execution_count": 588,
   "metadata": {},
   "outputs": [
    {
     "name": "stdout",
     "output_type": "stream",
     "text": [
      "                                            importance\n",
      "features                                              \n",
      "trans_fail_top_count_enum_last_1_month        0.059021\n",
      "history_fail_fee                              0.048917\n",
      "loans_score                                   0.048562\n",
      "apply_score                                   0.028175\n",
      "loans_overdue_count                           0.027679\n",
      "first_transaction_day                         0.026301\n",
      "trans_amount_3_month                          0.024917\n",
      "latest_one_month_fail                         0.023102\n",
      "historical_trans_day                          0.022316\n",
      "historical_trans_amount                       0.021682\n",
      "trans_day_last_12_month                       0.020914\n",
      "trans_activity_day                            0.020426\n",
      "trans_fail_top_count_enum_last_12_month       0.020374\n",
      "pawns_auctions_trusts_consume_last_6_month    0.020349\n",
      "latest_query_day                              0.019935\n",
      "latest_query_time_days                        0.019858\n",
      "trans_fail_top_count_enum_last_6_month        0.019220\n",
      "number_of_trans_from_2011                     0.019115\n",
      "avg_price_last_12_month                       0.018772\n",
      "consume_top_time_last_1_month                 0.018292\n",
      "loans_latest_day                              0.018125\n",
      "rank_trad_1_month                             0.017332\n",
      "loans_credit_limit                            0.017324\n",
      "loans_latest_time_days                        0.016844\n",
      "trans_top_time_last_6_month                   0.016413\n",
      "history_suc_fee                               0.016376\n",
      "loans_settle_count                            0.015711\n",
      "loans_max_limit                               0.015526\n",
      "max_cumulative_consume_later_1_month          0.014721\n",
      "consume_mini_time_last_1_month                0.014599\n",
      "apply_credibility                             0.014518\n",
      "latest_six_month_loan                         0.014449\n",
      "consume_top_time_last_6_month                 0.014368\n",
      "consfin_avg_limit                             0.014316\n",
      "latest_one_month_apply                        0.014299\n",
      "consfin_credit_limit                          0.014110\n",
      "loans_org_count_behavior                      0.014042\n",
      "query_org_count                               0.013130\n",
      "query_sum_count                               0.012740\n",
      "trans_top_time_last_1_month                   0.012465\n",
      "avg_price_top_last_12_valid_month             0.012196\n",
      "loans_org_count_current                       0.011805\n",
      "loans_count                                   0.011471\n",
      "consfin_max_limit                             0.011209\n",
      "consfin_credibility                           0.011141\n",
      "middle_volume_percent                         0.010836\n",
      "loans_product_count                           0.010680\n",
      "latest_three_month_loan                       0.010666\n",
      "top_trans_count_last_1_month                  0.010497\n",
      "consfin_product_count                         0.009988\n",
      "low_volume_percent                            0.009410\n",
      "latest_one_month_suc                          0.008959\n",
      "consfin_org_count_behavior                    0.008460\n",
      "consfin_org_count_current                     0.008409\n",
      "query_cash_count                              0.008399\n",
      "loans_cash_count                              0.008302\n",
      "pawns_auctions_trusts_consume_last_1_month    0.008237\n"
     ]
    }
   ],
   "source": [
    "importance_dict = pd.DataFrame(tf_model.feature_importances_, list(x_train.columns))\n",
    "\n",
    "\n",
    "importance_dict = pd.DataFrame()\n",
    "importance_dict[\"features\"] = list(x_train.columns)\n",
    "importance_dict[\"importance\"] = list(tf_model.feature_importances_)\n",
    "importance_dict=importance_dict.set_index(\"features\",drop=True)\n",
    "var_sort = importance_dict.sort_values(by=\"importance\",ascending=False)\n",
    "# var_sort.plot(kind=\"bar\")\n",
    "print(var_sort)"
   ]
  },
  {
   "cell_type": "code",
   "execution_count": 589,
   "metadata": {},
   "outputs": [
    {
     "data": {
      "text/plain": [
       "['trans_fail_top_count_enum_last_1_month',\n",
       " 'history_fail_fee',\n",
       " 'loans_score',\n",
       " 'apply_score',\n",
       " 'loans_overdue_count',\n",
       " 'first_transaction_day',\n",
       " 'trans_amount_3_month',\n",
       " 'latest_one_month_fail',\n",
       " 'historical_trans_day',\n",
       " 'historical_trans_amount',\n",
       " 'trans_day_last_12_month',\n",
       " 'trans_activity_day',\n",
       " 'trans_fail_top_count_enum_last_12_month',\n",
       " 'pawns_auctions_trusts_consume_last_6_month']"
      ]
     },
     "execution_count": 589,
     "metadata": {},
     "output_type": "execute_result"
    }
   ],
   "source": [
    "# 以 2% 作为选取变量的阈值\n",
    "var_x = list(var_sort.importance[var_sort.importance > 0.02].index)\n",
    "var_x"
   ]
  },
  {
   "cell_type": "code",
   "execution_count": 590,
   "metadata": {},
   "outputs": [],
   "source": [
    "# # 数据拆分\n",
    "# y = org_data1[var_y]\n",
    "# x = org_data1[var_char_s + var_num_f]\n",
    "# x_train, x_test, y_train, y_test = train_test_split(x, y, test_size=0.3, random_state=2018)"
   ]
  },
  {
   "cell_type": "code",
   "execution_count": 591,
   "metadata": {},
   "outputs": [],
   "source": [
    "# 数据拆分\n",
    "y = org_data1[var_y]\n",
    "x = org_data1[var_x]\n",
    "x_train, x_test, y_train, y_test = train_test_split(x, y, test_size=0.3, random_state=2018)"
   ]
  },
  {
   "cell_type": "code",
   "execution_count": 592,
   "metadata": {},
   "outputs": [
    {
     "name": "stdout",
     "output_type": "stream",
     "text": [
      "(4754, 14)\n",
      "(4754, 1)\n",
      "(3327, 14)\n",
      "(3327, 1)\n",
      "(1427, 14)\n",
      "(1427, 1)\n"
     ]
    }
   ],
   "source": [
    "print(x.shape)\n",
    "print(y.shape)\n",
    "print(x_train.shape)\n",
    "print(y_train.shape)\n",
    "print(x_test.shape)\n",
    "print(y_test.shape)"
   ]
  },
  {
   "cell_type": "code",
   "execution_count": 593,
   "metadata": {},
   "outputs": [],
   "source": [
    "# 5、正负样本转换\n",
    "# 正样本比例25%，占比较低\n",
    "# org_data.groupby(var_y)[var_y].count()"
   ]
  },
  {
   "cell_type": "markdown",
   "metadata": {},
   "source": [
    "## 6、模型训练和评估"
   ]
  },
  {
   "cell_type": "code",
   "execution_count": 594,
   "metadata": {},
   "outputs": [
    {
     "name": "stderr",
     "output_type": "stream",
     "text": [
      "D:\\Anaconda3\\lib\\site-packages\\ipykernel_launcher.py:2: DataConversionWarning: A column-vector y was passed when a 1d array was expected. Please change the shape of y to (n_samples,), for example using ravel().\n",
      "  \n"
     ]
    },
    {
     "data": {
      "text/plain": [
       "RandomForestClassifier(bootstrap=True, class_weight=None, criterion='gini',\n",
       "            max_depth=None, max_features='auto', max_leaf_nodes=None,\n",
       "            min_impurity_decrease=0.0, min_impurity_split=None,\n",
       "            min_samples_leaf=5, min_samples_split=2,\n",
       "            min_weight_fraction_leaf=0.0, n_estimators=500, n_jobs=None,\n",
       "            oob_score=False, random_state=None, verbose=0,\n",
       "            warm_start=False)"
      ]
     },
     "execution_count": 594,
     "metadata": {},
     "output_type": "execute_result"
    }
   ],
   "source": [
    "tf = RandomForestClassifier(n_estimators=500, min_samples_leaf = 5)\n",
    "tf_model = tf.fit(x_train, y_train)\n",
    "tf_model"
   ]
  },
  {
   "cell_type": "code",
   "execution_count": 595,
   "metadata": {},
   "outputs": [
    {
     "name": "stdout",
     "output_type": "stream",
     "text": [
      "拟合效果：\n",
      "0.8941989780583108\n",
      "              precision    recall  f1-score   support\n",
      "\n",
      "           0       0.88      0.99      0.93      2493\n",
      "           1       0.96      0.61      0.74       834\n",
      "\n",
      "   micro avg       0.89      0.89      0.89      3327\n",
      "   macro avg       0.92      0.80      0.84      3327\n",
      "weighted avg       0.90      0.89      0.89      3327\n",
      "\n",
      "预测效果：\n",
      "0.7806587245970568\n",
      "              precision    recall  f1-score   support\n",
      "\n",
      "           0       0.80      0.94      0.87      1068\n",
      "           1       0.64      0.30      0.41       359\n",
      "\n",
      "   micro avg       0.78      0.78      0.78      1427\n",
      "   macro avg       0.72      0.62      0.64      1427\n",
      "weighted avg       0.76      0.78      0.75      1427\n",
      "\n"
     ]
    }
   ],
   "source": [
    "# 查看拟合和预测结果\n",
    "print(\"拟合效果：\")\n",
    "print(tf_model.score(x_train, y_train))\n",
    "print(classification_report(y_train, tf_model.predict(x_train)))\n",
    "print(\"预测效果：\")\n",
    "print(tf_model.score(x_test, y_test))\n",
    "print(classification_report(y_test, tf_model.predict(x_test)))"
   ]
  },
  {
   "cell_type": "code",
   "execution_count": 596,
   "metadata": {},
   "outputs": [
    {
     "name": "stderr",
     "output_type": "stream",
     "text": [
      "D:\\Anaconda3\\lib\\site-packages\\sklearn\\utils\\validation.py:761: DataConversionWarning: A column-vector y was passed when a 1d array was expected. Please change the shape of y to (n_samples, ), for example using ravel().\n",
      "  y = column_or_1d(y, warn=True)\n"
     ]
    },
    {
     "data": {
      "text/plain": [
       "GradientBoostingClassifier(criterion='friedman_mse', init=None,\n",
       "              learning_rate=0.1, loss='deviance', max_depth=3,\n",
       "              max_features=None, max_leaf_nodes=None,\n",
       "              min_impurity_decrease=0.0, min_impurity_split=None,\n",
       "              min_samples_leaf=1, min_samples_split=2,\n",
       "              min_weight_fraction_leaf=0.0, n_estimators=200,\n",
       "              n_iter_no_change=None, presort='auto', random_state=None,\n",
       "              subsample=1.0, tol=0.0001, validation_fraction=0.1,\n",
       "              verbose=0, warm_start=False)"
      ]
     },
     "execution_count": 596,
     "metadata": {},
     "output_type": "execute_result"
    }
   ],
   "source": [
    "gbc = GradientBoostingClassifier(n_estimators=200)\n",
    "gbc_model = gbc.fit(x_train, y_train)\n",
    "gbc_model"
   ]
  },
  {
   "cell_type": "code",
   "execution_count": 597,
   "metadata": {},
   "outputs": [
    {
     "name": "stdout",
     "output_type": "stream",
     "text": [
      "拟合效果：\n",
      "0.868951006913135\n",
      "              precision    recall  f1-score   support\n",
      "\n",
      "           0       0.87      0.98      0.92      2493\n",
      "           1       0.88      0.55      0.68       834\n",
      "\n",
      "   micro avg       0.87      0.87      0.87      3327\n",
      "   macro avg       0.88      0.76      0.80      3327\n",
      "weighted avg       0.87      0.87      0.86      3327\n",
      "\n",
      "预测效果：\n",
      "0.775052557813595\n",
      "              precision    recall  f1-score   support\n",
      "\n",
      "           0       0.81      0.92      0.86      1068\n",
      "           1       0.59      0.35      0.44       359\n",
      "\n",
      "   micro avg       0.78      0.78      0.78      1427\n",
      "   macro avg       0.70      0.64      0.65      1427\n",
      "weighted avg       0.75      0.78      0.75      1427\n",
      "\n"
     ]
    }
   ],
   "source": [
    "# 查看拟合和预测结果\n",
    "print(\"拟合效果：\")\n",
    "print(gbc_model.score(x_train, y_train))\n",
    "print(classification_report(y_train, gbc_model.predict(x_train)))\n",
    "print(\"预测效果：\")\n",
    "print(gbc_model.score(x_test, y_test))\n",
    "print(classification_report(y_test, gbc_model.predict(x_test)))"
   ]
  }
 ],
 "metadata": {
  "kernelspec": {
   "display_name": "Python 3",
   "language": "python",
   "name": "python3"
  },
  "language_info": {
   "codemirror_mode": {
    "name": "ipython",
    "version": 3
   },
   "file_extension": ".py",
   "mimetype": "text/x-python",
   "name": "python",
   "nbconvert_exporter": "python",
   "pygments_lexer": "ipython3",
   "version": "3.7.3"
  }
 },
 "nbformat": 4,
 "nbformat_minor": 2
}
